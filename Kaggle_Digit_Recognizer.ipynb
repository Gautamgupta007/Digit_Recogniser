{
  "cells": [
    {
      "cell_type": "code",
      "execution_count": 4,
      "metadata": {},
      "outputs": [
        {
          "name": "stdout",
          "output_type": "stream",
          "text": [
            "Looking in indexes: https://download.pytorch.org/whl/cu118\n",
            "Collecting torch\n",
            "  Using cached https://download.pytorch.org/whl/cu118/torch-2.1.0%2Bcu118-cp311-cp311-win_amd64.whl (2722.7 MB)\n",
            "Collecting torchvision\n",
            "  Using cached https://download.pytorch.org/whl/cu118/torchvision-0.16.0%2Bcu118-cp311-cp311-win_amd64.whl (5.0 MB)\n",
            "Collecting torchaudio\n",
            "  Using cached https://download.pytorch.org/whl/cu118/torchaudio-2.1.0%2Bcu118-cp311-cp311-win_amd64.whl (3.9 MB)\n",
            "Collecting filelock (from torch)\n",
            "  Using cached https://download.pytorch.org/whl/filelock-3.9.0-py3-none-any.whl (9.7 kB)\n",
            "Requirement already satisfied: typing-extensions in c:\\users\\gupta\\appdata\\local\\packages\\pythonsoftwarefoundation.python.3.11_qbz5n2kfra8p0\\localcache\\local-packages\\python311\\site-packages (from torch) (4.8.0)\n",
            "Collecting sympy (from torch)\n",
            "  Using cached https://download.pytorch.org/whl/sympy-1.12-py3-none-any.whl (5.7 MB)\n",
            "Collecting networkx (from torch)\n",
            "  Using cached https://download.pytorch.org/whl/networkx-3.0-py3-none-any.whl (2.0 MB)\n",
            "Collecting jinja2 (from torch)\n",
            "  Downloading https://download.pytorch.org/whl/Jinja2-3.1.2-py3-none-any.whl (133 kB)\n",
            "     ---------------------------------------- 0.0/133.1 kB ? eta -:--:--\n",
            "     -------------------------------------- 133.1/133.1 kB 3.8 MB/s eta 0:00:00\n",
            "Collecting fsspec (from torch)\n",
            "  Using cached https://download.pytorch.org/whl/fsspec-2023.4.0-py3-none-any.whl (153 kB)\n",
            "Requirement already satisfied: numpy in c:\\users\\gupta\\appdata\\local\\packages\\pythonsoftwarefoundation.python.3.11_qbz5n2kfra8p0\\localcache\\local-packages\\python311\\site-packages (from torchvision) (1.26.0)\n",
            "Requirement already satisfied: requests in c:\\users\\gupta\\appdata\\local\\packages\\pythonsoftwarefoundation.python.3.11_qbz5n2kfra8p0\\localcache\\local-packages\\python311\\site-packages (from torchvision) (2.31.0)\n",
            "Collecting pillow!=8.3.*,>=5.3.0 (from torchvision)\n",
            "  Downloading https://download.pytorch.org/whl/Pillow-9.3.0-cp311-cp311-win_amd64.whl (2.5 MB)\n",
            "     ---------------------------------------- 0.0/2.5 MB ? eta -:--:--\n",
            "     -------- ------------------------------- 0.5/2.5 MB 16.2 MB/s eta 0:00:01\n",
            "     ----------- ---------------------------- 0.7/2.5 MB 10.9 MB/s eta 0:00:01\n",
            "     ------------- -------------------------- 0.8/2.5 MB 7.3 MB/s eta 0:00:01\n",
            "     -------------- ------------------------- 0.9/2.5 MB 6.9 MB/s eta 0:00:01\n",
            "     -------------- ------------------------- 0.9/2.5 MB 6.9 MB/s eta 0:00:01\n",
            "     -------------- ------------------------- 0.9/2.5 MB 6.9 MB/s eta 0:00:01\n",
            "     -------------- ------------------------- 0.9/2.5 MB 6.9 MB/s eta 0:00:01\n",
            "     -------------- ------------------------- 0.9/2.5 MB 6.9 MB/s eta 0:00:01\n",
            "     -------------- ------------------------- 0.9/2.5 MB 6.9 MB/s eta 0:00:01\n",
            "     -------------- ------------------------- 0.9/2.5 MB 6.9 MB/s eta 0:00:01\n",
            "     -------------- ------------------------- 0.9/2.5 MB 6.9 MB/s eta 0:00:01\n",
            "     -------------- ------------------------- 0.9/2.5 MB 6.9 MB/s eta 0:00:01\n",
            "     -------------- ------------------------- 0.9/2.5 MB 6.9 MB/s eta 0:00:01\n",
            "     -------------- ------------------------- 0.9/2.5 MB 6.9 MB/s eta 0:00:01\n",
            "     -------------- ------------------------- 0.9/2.5 MB 6.9 MB/s eta 0:00:01\n",
            "     -------------- ------------------------- 0.9/2.5 MB 6.9 MB/s eta 0:00:01\n",
            "     -------------- ------------------------- 0.9/2.5 MB 6.9 MB/s eta 0:00:01\n",
            "     -------------- ------------------------- 0.9/2.5 MB 6.9 MB/s eta 0:00:01\n",
            "     -------------- ------------------------- 0.9/2.5 MB 6.9 MB/s eta 0:00:01\n",
            "     -------------- ------------------------- 0.9/2.5 MB 6.9 MB/s eta 0:00:01\n",
            "     -------------- ------------------------- 0.9/2.5 MB 6.9 MB/s eta 0:00:01\n",
            "     -------------- ------------------------- 0.9/2.5 MB 6.9 MB/s eta 0:00:01\n",
            "     -------------- ------------------------- 0.9/2.5 MB 6.9 MB/s eta 0:00:01\n",
            "     -------------- ------------------------- 0.9/2.5 MB 6.9 MB/s eta 0:00:01\n",
            "     -------------- ------------------------- 0.9/2.5 MB 6.9 MB/s eta 0:00:01\n",
            "     -------------- ------------------------- 0.9/2.5 MB 6.9 MB/s eta 0:00:01\n",
            "     -------------- ------------------------- 0.9/2.5 MB 823.7 kB/s eta 0:00:02\n",
            "     ------------------- -------------------- 1.2/2.5 MB 1.0 MB/s eta 0:00:02\n",
            "     --------------------------- ------------ 1.7/2.5 MB 1.4 MB/s eta 0:00:01\n",
            "     ----------------------------- ---------- 1.8/2.5 MB 1.5 MB/s eta 0:00:01\n",
            "     ------------------------------- -------- 1.9/2.5 MB 1.5 MB/s eta 0:00:01\n",
            "     ------------------------------- -------- 2.0/2.5 MB 1.6 MB/s eta 0:00:01\n",
            "     ------------------------------- -------- 2.0/2.5 MB 1.6 MB/s eta 0:00:01\n",
            "     ------------------------------- -------- 2.0/2.5 MB 1.6 MB/s eta 0:00:01\n",
            "     ------------------------------- -------- 2.0/2.5 MB 1.6 MB/s eta 0:00:01\n",
            "     ------------------------------- -------- 2.0/2.5 MB 1.6 MB/s eta 0:00:01\n",
            "     ------------------------------- -------- 2.0/2.5 MB 1.6 MB/s eta 0:00:01\n",
            "     ------------------------------- -------- 2.0/2.5 MB 1.6 MB/s eta 0:00:01\n",
            "     ------------------------------- -------- 2.0/2.5 MB 1.6 MB/s eta 0:00:01\n",
            "     ------------------------------- -------- 2.0/2.5 MB 1.6 MB/s eta 0:00:01\n",
            "     ------------------------------- -------- 2.0/2.5 MB 1.6 MB/s eta 0:00:01\n",
            "     ------------------------------- -------- 2.0/2.5 MB 1.6 MB/s eta 0:00:01\n",
            "     ------------------------------- -------- 2.0/2.5 MB 1.6 MB/s eta 0:00:01\n",
            "     ------------------------------- -------- 2.0/2.5 MB 1.6 MB/s eta 0:00:01\n",
            "     ------------------------------- -------- 2.0/2.5 MB 1.6 MB/s eta 0:00:01\n",
            "     ------------------------------- -------- 2.0/2.5 MB 1.6 MB/s eta 0:00:01\n",
            "     ------------------------------- -------- 2.0/2.5 MB 1.6 MB/s eta 0:00:01\n",
            "     ------------------------------- -------- 2.0/2.5 MB 1.6 MB/s eta 0:00:01\n",
            "     ------------------------------- -------- 2.0/2.5 MB 1.6 MB/s eta 0:00:01\n",
            "     ------------------------------- -------- 2.0/2.5 MB 1.6 MB/s eta 0:00:01\n",
            "     ------------------------------- -------- 2.0/2.5 MB 1.6 MB/s eta 0:00:01\n",
            "     ------------------------------- -------- 2.0/2.5 MB 1.6 MB/s eta 0:00:01\n",
            "     ------------------------------- -------- 2.0/2.5 MB 1.6 MB/s eta 0:00:01\n",
            "     ------------------------------- -------- 2.0/2.5 MB 1.6 MB/s eta 0:00:01\n",
            "     -------------------------------- ------- 2.0/2.5 MB 904.5 kB/s eta 0:00:01\n",
            "     -------------------------------------- - 2.3/2.5 MB 1.0 MB/s eta 0:00:01\n",
            "     ---------------------------------------- 2.5/2.5 MB 1.1 MB/s eta 0:00:00\n",
            "Requirement already satisfied: MarkupSafe>=2.0 in c:\\users\\gupta\\appdata\\local\\packages\\pythonsoftwarefoundation.python.3.11_qbz5n2kfra8p0\\localcache\\local-packages\\python311\\site-packages (from jinja2->torch) (2.1.3)\n",
            "Requirement already satisfied: charset-normalizer<4,>=2 in c:\\users\\gupta\\appdata\\local\\packages\\pythonsoftwarefoundation.python.3.11_qbz5n2kfra8p0\\localcache\\local-packages\\python311\\site-packages (from requests->torchvision) (3.3.0)\n",
            "Requirement already satisfied: idna<4,>=2.5 in c:\\users\\gupta\\appdata\\local\\packages\\pythonsoftwarefoundation.python.3.11_qbz5n2kfra8p0\\localcache\\local-packages\\python311\\site-packages (from requests->torchvision) (3.4)\n",
            "Requirement already satisfied: urllib3<3,>=1.21.1 in c:\\users\\gupta\\appdata\\local\\packages\\pythonsoftwarefoundation.python.3.11_qbz5n2kfra8p0\\localcache\\local-packages\\python311\\site-packages (from requests->torchvision) (2.0.6)\n",
            "Requirement already satisfied: certifi>=2017.4.17 in c:\\users\\gupta\\appdata\\local\\packages\\pythonsoftwarefoundation.python.3.11_qbz5n2kfra8p0\\localcache\\local-packages\\python311\\site-packages (from requests->torchvision) (2023.7.22)\n",
            "Collecting mpmath>=0.19 (from sympy->torch)\n",
            "  Using cached https://download.pytorch.org/whl/mpmath-1.3.0-py3-none-any.whl (536 kB)\n",
            "Installing collected packages: mpmath, sympy, pillow, networkx, jinja2, fsspec, filelock, torch, torchvision, torchaudio\n",
            "Successfully installed filelock-3.9.0 fsspec-2023.4.0 jinja2-3.1.2 mpmath-1.3.0 networkx-3.0 pillow-9.3.0 sympy-1.12 torch-2.1.0+cu118 torchaudio-2.1.0+cu118 torchvision-0.16.0+cu118\n"
          ]
        },
        {
          "name": "stderr",
          "output_type": "stream",
          "text": [
            "\n",
            "[notice] A new release of pip is available: 23.2.1 -> 23.3.1\n",
            "[notice] To update, run: C:\\Users\\gupta\\AppData\\Local\\Microsoft\\WindowsApps\\PythonSoftwareFoundation.Python.3.11_qbz5n2kfra8p0\\python.exe -m pip install --upgrade pip\n"
          ]
        }
      ],
      "source": [
        "!pip3 install torch torchvision torchaudio --index-url https://download.pytorch.org/whl/cu118\n",
        "!pip install matplotlib\n",
        "!pip install tqdm"
      ]
    },
    {
      "cell_type": "code",
      "execution_count": 9,
      "metadata": {
        "id": "EmbhLxEZ4DQN"
      },
      "outputs": [
        {
          "name": "stderr",
          "output_type": "stream",
          "text": [
            "C:\\Users\\gupta\\AppData\\Local\\Packages\\PythonSoftwareFoundation.Python.3.11_qbz5n2kfra8p0\\LocalCache\\local-packages\\Python311\\site-packages\\tqdm\\auto.py:21: TqdmWarning: IProgress not found. Please update jupyter and ipywidgets. See https://ipywidgets.readthedocs.io/en/stable/user_install.html\n",
            "  from .autonotebook import tqdm as notebook_tqdm\n"
          ]
        }
      ],
      "source": [
        "import torch\n",
        "from torch import nn\n",
        "import torchvision\n",
        "from torchvision import datasets\n",
        "from torchvision import transforms\n",
        "from torchvision.transforms import ToTensor\n",
        "import numpy as np\n",
        "import matplotlib.pyplot as plt\n",
        "import pandas as pd\n",
        "from pathlib import Path\n",
        "from timeit import default_timer as timer\n",
        "from tqdm.auto import tqdm"
      ]
    },
    {
      "cell_type": "code",
      "execution_count": 10,
      "metadata": {
        "id": "8a0I99oB4WVp"
      },
      "outputs": [],
      "source": [
        "class FashionMNISTModel2(nn.Module):\n",
        "  '''\n",
        "  Model architecture that replicates TinyVGG\n",
        "  '''\n",
        "  def __init__(self, in_shape:int , hidden_units:int , output_shape:int):\n",
        "    super().__init__()\n",
        "\n",
        "    self.conv_block1 = nn.Sequential(\n",
        "        nn.Conv2d(in_shape,\n",
        "                  hidden_units,\n",
        "                  kernel_size = 3,\n",
        "                  stride = 1,\n",
        "                  padding = 1),\n",
        "        nn.ReLU(),\n",
        "        nn.Conv2d(hidden_units,\n",
        "                  hidden_units,\n",
        "                  kernel_size = 3,\n",
        "                  stride = 1,\n",
        "                  padding = 1),\n",
        "        nn.ReLU(),\n",
        "        nn.MaxPool2d(kernel_size = 2)\n",
        "     )\n",
        "\n",
        "    self.conv_block2 = nn.Sequential(\n",
        "        nn.Conv2d(hidden_units,\n",
        "                  hidden_units,\n",
        "                  kernel_size = 3,\n",
        "                  stride = 1,\n",
        "                  padding = 1),\n",
        "        nn.ReLU(),\n",
        "        nn.Conv2d(hidden_units,\n",
        "                  hidden_units,\n",
        "                  kernel_size = 3,\n",
        "                  stride = 1,\n",
        "                  padding = 1),\n",
        "        nn.ReLU(),\n",
        "        nn.MaxPool2d(kernel_size = 2)\n",
        "     )\n",
        "\n",
        "    self.ClassifierLayer = nn.Sequential(\n",
        "        nn.Flatten(),\n",
        "        nn.Linear(hidden_units*49,\n",
        "                  output_shape)\n",
        "    )\n",
        "\n",
        "  def forward(self , x):\n",
        "    x = self.conv_block1(x)\n",
        "    # print(x.shape)\n",
        "    x = self.conv_block2(x)\n",
        "    # print(x.shape)\n",
        "    x = self.ClassifierLayer(x)\n",
        "    return x"
      ]
    },
    {
      "cell_type": "code",
      "execution_count": 11,
      "metadata": {
        "id": "7pKl9Ezl_TXG"
      },
      "outputs": [],
      "source": [
        "model_1 = FashionMNISTModel2(in_shape = 1,\n",
        "                             hidden_units = 30,\n",
        "                             output_shape = 10)"
      ]
    },
    {
      "cell_type": "code",
      "execution_count": 12,
      "metadata": {
        "id": "0YAYwzv-_TUe"
      },
      "outputs": [],
      "source": [
        "loss_fn = nn.CrossEntropyLoss()\n",
        "optimizer = torch.optim.SGD(params = model_1.parameters(),\n",
        "                              lr = 0.01)\n",
        "\n",
        "def accuracy_fn(y_true, y_pred):\n",
        "  correct = torch.eq(y_true, y_pred).sum().item()\n",
        "  acc = (correct / len(y_pred)) * 100\n",
        "  return acc\n",
        "\n",
        "\n",
        "\n",
        "def print_train_time(start :float,\n",
        "                     end: float ,\n",
        "                     device : torch.device=None):\n",
        "  timee = end - start\n",
        "  print(f\"The time taken is: {timee}\")\n",
        "  return timee\n"
      ]
    },
    {
      "cell_type": "code",
      "execution_count": 15,
      "metadata": {
        "id": "X653HYYbAdqv"
      },
      "outputs": [],
      "source": [
        "# import pandas as pd\n",
        "\n",
        "dataset = pd.read_csv('train.csv')\n",
        "\n",
        "# Training Data\n",
        "X_train = dataset.iloc[:40000, 1:].values\n",
        "y_train = dataset.iloc[:40000, 0].values\n",
        "\n",
        "X_training1 = torch.from_numpy(X_train)\n",
        "y_training = torch.from_numpy(y_train)\n",
        "X_training = torch.reshape(X_training1 , (40000 ,1 , 28,28))\n",
        "\n",
        "X_training = torch.divide(X_training,255)\n",
        "\n",
        "# Testing Data\n",
        "\n",
        "X_test = dataset.iloc[40000:, 1:].values\n",
        "y_test = dataset.iloc[40000:, 0].values\n",
        "\n",
        "X_testing1 = torch.from_numpy(X_test)\n",
        "y_testing = torch.from_numpy(y_test)\n",
        "X_testing = torch.reshape(X_testing1 , (2000 ,1 , 28,28))\n",
        "\n",
        "X_testing = torch.divide(X_testing,255)"
      ]
    },
    {
      "cell_type": "code",
      "execution_count": 18,
      "metadata": {
        "id": "5vRP7wbc5yZA"
      },
      "outputs": [],
      "source": [
        "# import torch\n",
        "ds = torch.utils.data.TensorDataset(X_training , y_training)\n",
        "train_dl = torch.utils.data.DataLoader(ds, batch_size = 128)\n",
        "\n",
        "ds1 = torch.utils.data.TensorDataset(X_testing , y_testing)\n",
        "test_dl = torch.utils.data.DataLoader(ds1, batch_size = 128)"
      ]
    },
    {
      "cell_type": "code",
      "execution_count": 20,
      "metadata": {
        "id": "ZWS5obNPt7JF"
      },
      "outputs": [],
      "source": [
        "def training_model(model: torch.nn.Module,\n",
        "                   dataloader: torch.utils.data.DataLoader,\n",
        "                   loss_fn: torch.nn.Module,\n",
        "                   optimizer: torch.optim.Optimizer,\n",
        "                   accuracy_fn):\n",
        "\n",
        "\n",
        "  train_loss , train_acc = 0,0\n",
        "\n",
        "  for batch ,(X,y) in enumerate(dataloader):\n",
        "\n",
        "    model.train()\n",
        "\n",
        "    y_preds = model(X)\n",
        "\n",
        "    loss = loss_fn(y_preds , y)\n",
        "    train_loss += loss\n",
        "\n",
        "    train_acc += accuracy_fn(y , y_preds.argmax(dim=1))\n",
        "\n",
        "    optimizer.zero_grad()\n",
        "\n",
        "    loss.backward()\n",
        "\n",
        "    optimizer.step()\n",
        "\n",
        "  train_loss /= len(dataloader)\n",
        "  train_acc /= len(dataloader)\n",
        "\n",
        "  print(f\"Training Loss: {train_loss:.4f} | Training Accuracy: {train_acc:.4f}\")\n",
        "\n"
      ]
    },
    {
      "cell_type": "code",
      "execution_count": 21,
      "metadata": {
        "id": "MDObRbhat7HD"
      },
      "outputs": [],
      "source": [
        "def testing_model(model: torch.nn.Module,\n",
        "                  dataloader: torch.utils.data.DataLoader,\n",
        "                  loss_fn: torch.nn.Module,\n",
        "                  accuracy_fn):\n",
        "  test_loss ,test_acc = 0 ,0\n",
        "\n",
        "  model.eval()\n",
        "\n",
        "  with torch.inference_mode():\n",
        "    for X_test,y_test in dataloader:\n",
        "\n",
        "      test_pred = model(X_test)\n",
        "\n",
        "      test_loss += loss_fn(test_pred , y_test)\n",
        "      test_acc += accuracy_fn(y_test , test_pred.argmax(dim=1))\n",
        "\n",
        "    test_loss /= len(dataloader)\n",
        "    test_acc /= len(dataloader)\n",
        "\n",
        "  print(f\"Test Loss: {test_loss:.4f} | Test Accuracy: {test_acc:.4f}\")"
      ]
    },
    {
      "cell_type": "code",
      "execution_count": 23,
      "metadata": {
        "colab": {
          "base_uri": "https://localhost:8080/",
          "height": 292,
          "referenced_widgets": [
            "0b962c6a7cd14756adc088625ca7c074",
            "4f9ba1979346403282e117b3dc6042b1",
            "323faa22a7be498cb6bc58a5decddb5b",
            "6534f36d779d4b00b8ca0d73f612c045",
            "176e5bdf14234619aa533d60212134ee",
            "91f347efa54346cd9f69bc0a734c72fb",
            "3b951597ce2c4ac2bb7660c16fe2cdf8",
            "8adfdfb8aa6f4bff9fb8648d83d7299c",
            "180274920ae243ab906234ea8301337c",
            "ed12f779dbc4400fa4f44d5be85141a2",
            "e5a3a7a32e034f3e882917efcc21dc14"
          ]
        },
        "id": "fKReQi3Ft7Ej",
        "outputId": "315dcd3b-707b-4fee-dbf8-de5a6ff279d3"
      },
      "outputs": [
        {
          "name": "stderr",
          "output_type": "stream",
          "text": [
            "  0%|          | 0/20 [00:00<?, ?it/s]"
          ]
        },
        {
          "name": "stdout",
          "output_type": "stream",
          "text": [
            "Epoch 0\n",
            " -------------\n",
            "Training Loss: 0.0510 | Training Accuracy: 98.4600\n"
          ]
        },
        {
          "name": "stderr",
          "output_type": "stream",
          "text": [
            "  5%|▌         | 1/20 [00:19<06:05, 19.24s/it]"
          ]
        },
        {
          "name": "stdout",
          "output_type": "stream",
          "text": [
            "Test Loss: 0.0763 | Test Accuracy: 97.6562\n",
            "Epoch 1\n",
            " -------------\n",
            "Training Loss: 0.0492 | Training Accuracy: 98.5299\n"
          ]
        },
        {
          "name": "stderr",
          "output_type": "stream",
          "text": [
            " 10%|█         | 2/20 [00:38<05:51, 19.53s/it]"
          ]
        },
        {
          "name": "stdout",
          "output_type": "stream",
          "text": [
            "Test Loss: 0.0748 | Test Accuracy: 97.6562\n",
            "Epoch 2\n",
            " -------------\n",
            "Training Loss: 0.0475 | Training Accuracy: 98.6247\n"
          ]
        },
        {
          "name": "stderr",
          "output_type": "stream",
          "text": [
            " 15%|█▌        | 3/20 [00:58<05:32, 19.56s/it]"
          ]
        },
        {
          "name": "stdout",
          "output_type": "stream",
          "text": [
            "Test Loss: 0.0734 | Test Accuracy: 97.6562\n",
            "Epoch 3\n",
            " -------------\n",
            "Training Loss: 0.0459 | Training Accuracy: 98.6796\n"
          ]
        },
        {
          "name": "stderr",
          "output_type": "stream",
          "text": [
            " 20%|██        | 4/20 [01:18<05:17, 19.86s/it]"
          ]
        },
        {
          "name": "stdout",
          "output_type": "stream",
          "text": [
            "Test Loss: 0.0721 | Test Accuracy: 97.7051\n",
            "Epoch 4\n",
            " -------------\n",
            "Training Loss: 0.0444 | Training Accuracy: 98.7320\n"
          ]
        },
        {
          "name": "stderr",
          "output_type": "stream",
          "text": [
            " 25%|██▌       | 5/20 [01:39<05:00, 20.02s/it]"
          ]
        },
        {
          "name": "stdout",
          "output_type": "stream",
          "text": [
            "Test Loss: 0.0710 | Test Accuracy: 97.7051\n",
            "Epoch 5\n",
            " -------------\n",
            "Training Loss: 0.0430 | Training Accuracy: 98.7720\n"
          ]
        },
        {
          "name": "stderr",
          "output_type": "stream",
          "text": [
            " 30%|███       | 6/20 [01:58<04:37, 19.81s/it]"
          ]
        },
        {
          "name": "stdout",
          "output_type": "stream",
          "text": [
            "Test Loss: 0.0703 | Test Accuracy: 97.7051\n",
            "Epoch 6\n",
            " -------------\n",
            "Training Loss: 0.0417 | Training Accuracy: 98.7969\n"
          ]
        },
        {
          "name": "stderr",
          "output_type": "stream",
          "text": [
            " 35%|███▌      | 7/20 [02:18<04:18, 19.87s/it]"
          ]
        },
        {
          "name": "stdout",
          "output_type": "stream",
          "text": [
            "Test Loss: 0.0695 | Test Accuracy: 97.6074\n",
            "Epoch 7\n",
            " -------------\n",
            "Training Loss: 0.0404 | Training Accuracy: 98.8369\n"
          ]
        },
        {
          "name": "stderr",
          "output_type": "stream",
          "text": [
            " 40%|████      | 8/20 [02:39<04:00, 20.05s/it]"
          ]
        },
        {
          "name": "stdout",
          "output_type": "stream",
          "text": [
            "Test Loss: 0.0687 | Test Accuracy: 97.6562\n",
            "Epoch 8\n",
            " -------------\n",
            "Training Loss: 0.0392 | Training Accuracy: 98.8643\n"
          ]
        },
        {
          "name": "stderr",
          "output_type": "stream",
          "text": [
            " 45%|████▌     | 9/20 [03:00<03:46, 20.55s/it]"
          ]
        },
        {
          "name": "stdout",
          "output_type": "stream",
          "text": [
            "Test Loss: 0.0680 | Test Accuracy: 97.6562\n",
            "Epoch 9\n",
            " -------------\n",
            "Training Loss: 0.0380 | Training Accuracy: 98.9067\n"
          ]
        },
        {
          "name": "stderr",
          "output_type": "stream",
          "text": [
            " 50%|█████     | 10/20 [03:21<03:27, 20.73s/it]"
          ]
        },
        {
          "name": "stdout",
          "output_type": "stream",
          "text": [
            "Test Loss: 0.0667 | Test Accuracy: 97.6562\n",
            "Epoch 10\n",
            " -------------\n",
            "Training Loss: 0.0369 | Training Accuracy: 98.9317\n"
          ]
        },
        {
          "name": "stderr",
          "output_type": "stream",
          "text": [
            " 55%|█████▌    | 11/20 [03:42<03:06, 20.76s/it]"
          ]
        },
        {
          "name": "stdout",
          "output_type": "stream",
          "text": [
            "Test Loss: 0.0660 | Test Accuracy: 97.6562\n",
            "Epoch 11\n",
            " -------------\n",
            "Training Loss: 0.0359 | Training Accuracy: 98.9617\n"
          ]
        },
        {
          "name": "stderr",
          "output_type": "stream",
          "text": [
            " 60%|██████    | 12/20 [04:03<02:45, 20.74s/it]"
          ]
        },
        {
          "name": "stdout",
          "output_type": "stream",
          "text": [
            "Test Loss: 0.0652 | Test Accuracy: 97.7051\n",
            "Epoch 12\n",
            " -------------\n",
            "Training Loss: 0.0349 | Training Accuracy: 98.9891\n"
          ]
        },
        {
          "name": "stderr",
          "output_type": "stream",
          "text": [
            " 65%|██████▌   | 13/20 [04:24<02:25, 20.80s/it]"
          ]
        },
        {
          "name": "stdout",
          "output_type": "stream",
          "text": [
            "Test Loss: 0.0640 | Test Accuracy: 97.8516\n",
            "Epoch 13\n",
            " -------------\n",
            "Training Loss: 0.0339 | Training Accuracy: 99.0266\n"
          ]
        },
        {
          "name": "stderr",
          "output_type": "stream",
          "text": [
            " 70%|███████   | 14/20 [04:44<02:04, 20.73s/it]"
          ]
        },
        {
          "name": "stdout",
          "output_type": "stream",
          "text": [
            "Test Loss: 0.0633 | Test Accuracy: 97.8516\n",
            "Epoch 14\n",
            " -------------\n",
            "Training Loss: 0.0329 | Training Accuracy: 99.0540\n"
          ]
        },
        {
          "name": "stderr",
          "output_type": "stream",
          "text": [
            " 75%|███████▌  | 15/20 [05:05<01:44, 20.84s/it]"
          ]
        },
        {
          "name": "stdout",
          "output_type": "stream",
          "text": [
            "Test Loss: 0.0630 | Test Accuracy: 97.8516\n",
            "Epoch 15\n",
            " -------------\n",
            "Training Loss: 0.0320 | Training Accuracy: 99.0690\n"
          ]
        },
        {
          "name": "stderr",
          "output_type": "stream",
          "text": [
            " 80%|████████  | 16/20 [05:27<01:23, 20.97s/it]"
          ]
        },
        {
          "name": "stdout",
          "output_type": "stream",
          "text": [
            "Test Loss: 0.0624 | Test Accuracy: 97.8516\n",
            "Epoch 16\n",
            " -------------\n",
            "Training Loss: 0.0311 | Training Accuracy: 99.1189\n"
          ]
        },
        {
          "name": "stderr",
          "output_type": "stream",
          "text": [
            " 85%|████████▌ | 17/20 [05:48<01:02, 20.99s/it]"
          ]
        },
        {
          "name": "stdout",
          "output_type": "stream",
          "text": [
            "Test Loss: 0.0616 | Test Accuracy: 97.9004\n",
            "Epoch 17\n",
            " -------------\n",
            "Training Loss: 0.0303 | Training Accuracy: 99.1514\n"
          ]
        },
        {
          "name": "stderr",
          "output_type": "stream",
          "text": [
            " 90%|█████████ | 18/20 [06:09<00:42, 21.05s/it]"
          ]
        },
        {
          "name": "stdout",
          "output_type": "stream",
          "text": [
            "Test Loss: 0.0610 | Test Accuracy: 97.9492\n",
            "Epoch 18\n",
            " -------------\n",
            "Training Loss: 0.0295 | Training Accuracy: 99.1763\n"
          ]
        },
        {
          "name": "stderr",
          "output_type": "stream",
          "text": [
            " 95%|█████████▌| 19/20 [06:30<00:21, 21.04s/it]"
          ]
        },
        {
          "name": "stdout",
          "output_type": "stream",
          "text": [
            "Test Loss: 0.0604 | Test Accuracy: 97.9980\n",
            "Epoch 19\n",
            " -------------\n",
            "Training Loss: 0.0287 | Training Accuracy: 99.2163\n"
          ]
        },
        {
          "name": "stderr",
          "output_type": "stream",
          "text": [
            "100%|██████████| 20/20 [06:51<00:00, 20.58s/it]"
          ]
        },
        {
          "name": "stdout",
          "output_type": "stream",
          "text": [
            "Test Loss: 0.0598 | Test Accuracy: 97.9980\n",
            "The time taken is: 411.50958399999945\n"
          ]
        },
        {
          "name": "stderr",
          "output_type": "stream",
          "text": [
            "\n"
          ]
        }
      ],
      "source": [
        "torch.manual_seed(42)\n",
        "\n",
        "epochs = 20 # Increase it to increase the accuracy of the model\n",
        "\n",
        "time_start = timer()\n",
        "for epoch in tqdm(range(epochs)):\n",
        "  print(f\"Epoch {epoch}\\n -------------\")\n",
        "  training_model(model_1,\n",
        "                 train_dl,\n",
        "                 loss_fn,\n",
        "                 optimizer,\n",
        "                 accuracy_fn)\n",
        "  testing_model(model_1,\n",
        "                 test_dl,\n",
        "                 loss_fn,\n",
        "                 accuracy_fn)\n",
        "\n",
        "time_end = timer()\n",
        "\n",
        "time_taken = print_train_time(time_start , time_end)"
      ]
    },
    {
      "cell_type": "code",
      "execution_count": 25,
      "metadata": {
        "id": "I7w4CVHqt62b"
      },
      "outputs": [],
      "source": [
        "dataset = pd.read_csv('test.csv')\n",
        "\n",
        "# Training Data\n",
        "X_pr = dataset.iloc[:, :].values\n",
        "\n",
        "X_t1 = torch.from_numpy(X_pr)\n",
        "\n",
        "X_t = torch.reshape(X_t1 , (28000 , 1 , 28,28))\n",
        "\n",
        "X_t = torch.divide(X_t,255)\n"
      ]
    },
    {
      "cell_type": "code",
      "execution_count": 38,
      "metadata": {
        "id": "2F085_ty66Kb"
      },
      "outputs": [],
      "source": [
        "import csv\n",
        "with open(\"result.csv\" , \"w+\" , newline = \"\") as f:\n",
        "  fwrite = csv.writer(f)\n",
        "\n",
        "  fields = [\"ImageId\" , \"Label\"]\n",
        "\n",
        "  fwrite.writerow(fields)\n",
        "\n",
        "  pred = model_1(X_t).argmax(dim=1)\n",
        "\n",
        "  for i in range(28000):\n",
        "    fwrite.writerow([i+1 , pred[i].item()])"
      ]
    }
  ],
  "metadata": {
    "accelerator": "GPU",
    "colab": {
      "gpuType": "T4",
      "provenance": []
    },
    "kernelspec": {
      "display_name": "Python 3",
      "name": "python3"
    },
    "language_info": {
      "codemirror_mode": {
        "name": "ipython",
        "version": 3
      },
      "file_extension": ".py",
      "mimetype": "text/x-python",
      "name": "python",
      "nbconvert_exporter": "python",
      "pygments_lexer": "ipython3",
      "version": "3.11.6"
    },
    "widgets": {
      "application/vnd.jupyter.widget-state+json": {
        "0b962c6a7cd14756adc088625ca7c074": {
          "model_module": "@jupyter-widgets/controls",
          "model_module_version": "1.5.0",
          "model_name": "HBoxModel",
          "state": {
            "_dom_classes": [],
            "_model_module": "@jupyter-widgets/controls",
            "_model_module_version": "1.5.0",
            "_model_name": "HBoxModel",
            "_view_count": null,
            "_view_module": "@jupyter-widgets/controls",
            "_view_module_version": "1.5.0",
            "_view_name": "HBoxView",
            "box_style": "",
            "children": [
              "IPY_MODEL_4f9ba1979346403282e117b3dc6042b1",
              "IPY_MODEL_323faa22a7be498cb6bc58a5decddb5b",
              "IPY_MODEL_6534f36d779d4b00b8ca0d73f612c045"
            ],
            "layout": "IPY_MODEL_176e5bdf14234619aa533d60212134ee"
          }
        },
        "176e5bdf14234619aa533d60212134ee": {
          "model_module": "@jupyter-widgets/base",
          "model_module_version": "1.2.0",
          "model_name": "LayoutModel",
          "state": {
            "_model_module": "@jupyter-widgets/base",
            "_model_module_version": "1.2.0",
            "_model_name": "LayoutModel",
            "_view_count": null,
            "_view_module": "@jupyter-widgets/base",
            "_view_module_version": "1.2.0",
            "_view_name": "LayoutView",
            "align_content": null,
            "align_items": null,
            "align_self": null,
            "border": null,
            "bottom": null,
            "display": null,
            "flex": null,
            "flex_flow": null,
            "grid_area": null,
            "grid_auto_columns": null,
            "grid_auto_flow": null,
            "grid_auto_rows": null,
            "grid_column": null,
            "grid_gap": null,
            "grid_row": null,
            "grid_template_areas": null,
            "grid_template_columns": null,
            "grid_template_rows": null,
            "height": null,
            "justify_content": null,
            "justify_items": null,
            "left": null,
            "margin": null,
            "max_height": null,
            "max_width": null,
            "min_height": null,
            "min_width": null,
            "object_fit": null,
            "object_position": null,
            "order": null,
            "overflow": null,
            "overflow_x": null,
            "overflow_y": null,
            "padding": null,
            "right": null,
            "top": null,
            "visibility": null,
            "width": null
          }
        },
        "180274920ae243ab906234ea8301337c": {
          "model_module": "@jupyter-widgets/controls",
          "model_module_version": "1.5.0",
          "model_name": "ProgressStyleModel",
          "state": {
            "_model_module": "@jupyter-widgets/controls",
            "_model_module_version": "1.5.0",
            "_model_name": "ProgressStyleModel",
            "_view_count": null,
            "_view_module": "@jupyter-widgets/base",
            "_view_module_version": "1.2.0",
            "_view_name": "StyleView",
            "bar_color": null,
            "description_width": ""
          }
        },
        "323faa22a7be498cb6bc58a5decddb5b": {
          "model_module": "@jupyter-widgets/controls",
          "model_module_version": "1.5.0",
          "model_name": "FloatProgressModel",
          "state": {
            "_dom_classes": [],
            "_model_module": "@jupyter-widgets/controls",
            "_model_module_version": "1.5.0",
            "_model_name": "FloatProgressModel",
            "_view_count": null,
            "_view_module": "@jupyter-widgets/controls",
            "_view_module_version": "1.5.0",
            "_view_name": "ProgressView",
            "bar_style": "",
            "description": "",
            "description_tooltip": null,
            "layout": "IPY_MODEL_8adfdfb8aa6f4bff9fb8648d83d7299c",
            "max": 20,
            "min": 0,
            "orientation": "horizontal",
            "style": "IPY_MODEL_180274920ae243ab906234ea8301337c",
            "value": 3
          }
        },
        "3b951597ce2c4ac2bb7660c16fe2cdf8": {
          "model_module": "@jupyter-widgets/controls",
          "model_module_version": "1.5.0",
          "model_name": "DescriptionStyleModel",
          "state": {
            "_model_module": "@jupyter-widgets/controls",
            "_model_module_version": "1.5.0",
            "_model_name": "DescriptionStyleModel",
            "_view_count": null,
            "_view_module": "@jupyter-widgets/base",
            "_view_module_version": "1.2.0",
            "_view_name": "StyleView",
            "description_width": ""
          }
        },
        "4f9ba1979346403282e117b3dc6042b1": {
          "model_module": "@jupyter-widgets/controls",
          "model_module_version": "1.5.0",
          "model_name": "HTMLModel",
          "state": {
            "_dom_classes": [],
            "_model_module": "@jupyter-widgets/controls",
            "_model_module_version": "1.5.0",
            "_model_name": "HTMLModel",
            "_view_count": null,
            "_view_module": "@jupyter-widgets/controls",
            "_view_module_version": "1.5.0",
            "_view_name": "HTMLView",
            "description": "",
            "description_tooltip": null,
            "layout": "IPY_MODEL_91f347efa54346cd9f69bc0a734c72fb",
            "placeholder": "​",
            "style": "IPY_MODEL_3b951597ce2c4ac2bb7660c16fe2cdf8",
            "value": " 15%"
          }
        },
        "6534f36d779d4b00b8ca0d73f612c045": {
          "model_module": "@jupyter-widgets/controls",
          "model_module_version": "1.5.0",
          "model_name": "HTMLModel",
          "state": {
            "_dom_classes": [],
            "_model_module": "@jupyter-widgets/controls",
            "_model_module_version": "1.5.0",
            "_model_name": "HTMLModel",
            "_view_count": null,
            "_view_module": "@jupyter-widgets/controls",
            "_view_module_version": "1.5.0",
            "_view_name": "HTMLView",
            "description": "",
            "description_tooltip": null,
            "layout": "IPY_MODEL_ed12f779dbc4400fa4f44d5be85141a2",
            "placeholder": "​",
            "style": "IPY_MODEL_e5a3a7a32e034f3e882917efcc21dc14",
            "value": " 3/20 [03:54&lt;21:41, 76.56s/it]"
          }
        },
        "8adfdfb8aa6f4bff9fb8648d83d7299c": {
          "model_module": "@jupyter-widgets/base",
          "model_module_version": "1.2.0",
          "model_name": "LayoutModel",
          "state": {
            "_model_module": "@jupyter-widgets/base",
            "_model_module_version": "1.2.0",
            "_model_name": "LayoutModel",
            "_view_count": null,
            "_view_module": "@jupyter-widgets/base",
            "_view_module_version": "1.2.0",
            "_view_name": "LayoutView",
            "align_content": null,
            "align_items": null,
            "align_self": null,
            "border": null,
            "bottom": null,
            "display": null,
            "flex": null,
            "flex_flow": null,
            "grid_area": null,
            "grid_auto_columns": null,
            "grid_auto_flow": null,
            "grid_auto_rows": null,
            "grid_column": null,
            "grid_gap": null,
            "grid_row": null,
            "grid_template_areas": null,
            "grid_template_columns": null,
            "grid_template_rows": null,
            "height": null,
            "justify_content": null,
            "justify_items": null,
            "left": null,
            "margin": null,
            "max_height": null,
            "max_width": null,
            "min_height": null,
            "min_width": null,
            "object_fit": null,
            "object_position": null,
            "order": null,
            "overflow": null,
            "overflow_x": null,
            "overflow_y": null,
            "padding": null,
            "right": null,
            "top": null,
            "visibility": null,
            "width": null
          }
        },
        "91f347efa54346cd9f69bc0a734c72fb": {
          "model_module": "@jupyter-widgets/base",
          "model_module_version": "1.2.0",
          "model_name": "LayoutModel",
          "state": {
            "_model_module": "@jupyter-widgets/base",
            "_model_module_version": "1.2.0",
            "_model_name": "LayoutModel",
            "_view_count": null,
            "_view_module": "@jupyter-widgets/base",
            "_view_module_version": "1.2.0",
            "_view_name": "LayoutView",
            "align_content": null,
            "align_items": null,
            "align_self": null,
            "border": null,
            "bottom": null,
            "display": null,
            "flex": null,
            "flex_flow": null,
            "grid_area": null,
            "grid_auto_columns": null,
            "grid_auto_flow": null,
            "grid_auto_rows": null,
            "grid_column": null,
            "grid_gap": null,
            "grid_row": null,
            "grid_template_areas": null,
            "grid_template_columns": null,
            "grid_template_rows": null,
            "height": null,
            "justify_content": null,
            "justify_items": null,
            "left": null,
            "margin": null,
            "max_height": null,
            "max_width": null,
            "min_height": null,
            "min_width": null,
            "object_fit": null,
            "object_position": null,
            "order": null,
            "overflow": null,
            "overflow_x": null,
            "overflow_y": null,
            "padding": null,
            "right": null,
            "top": null,
            "visibility": null,
            "width": null
          }
        },
        "e5a3a7a32e034f3e882917efcc21dc14": {
          "model_module": "@jupyter-widgets/controls",
          "model_module_version": "1.5.0",
          "model_name": "DescriptionStyleModel",
          "state": {
            "_model_module": "@jupyter-widgets/controls",
            "_model_module_version": "1.5.0",
            "_model_name": "DescriptionStyleModel",
            "_view_count": null,
            "_view_module": "@jupyter-widgets/base",
            "_view_module_version": "1.2.0",
            "_view_name": "StyleView",
            "description_width": ""
          }
        },
        "ed12f779dbc4400fa4f44d5be85141a2": {
          "model_module": "@jupyter-widgets/base",
          "model_module_version": "1.2.0",
          "model_name": "LayoutModel",
          "state": {
            "_model_module": "@jupyter-widgets/base",
            "_model_module_version": "1.2.0",
            "_model_name": "LayoutModel",
            "_view_count": null,
            "_view_module": "@jupyter-widgets/base",
            "_view_module_version": "1.2.0",
            "_view_name": "LayoutView",
            "align_content": null,
            "align_items": null,
            "align_self": null,
            "border": null,
            "bottom": null,
            "display": null,
            "flex": null,
            "flex_flow": null,
            "grid_area": null,
            "grid_auto_columns": null,
            "grid_auto_flow": null,
            "grid_auto_rows": null,
            "grid_column": null,
            "grid_gap": null,
            "grid_row": null,
            "grid_template_areas": null,
            "grid_template_columns": null,
            "grid_template_rows": null,
            "height": null,
            "justify_content": null,
            "justify_items": null,
            "left": null,
            "margin": null,
            "max_height": null,
            "max_width": null,
            "min_height": null,
            "min_width": null,
            "object_fit": null,
            "object_position": null,
            "order": null,
            "overflow": null,
            "overflow_x": null,
            "overflow_y": null,
            "padding": null,
            "right": null,
            "top": null,
            "visibility": null,
            "width": null
          }
        }
      }
    }
  },
  "nbformat": 4,
  "nbformat_minor": 0
}
